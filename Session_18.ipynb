{
 "cells": [
  {
   "cell_type": "markdown",
   "metadata": {},
   "source": [
    "Problem Statement 1:\n",
    "Is gender independent of education level? A random sample of 395 people were\n",
    "surveyed and each person was asked to report the highest education level they\n",
    "obtained. The data that resulted from the survey is summarized in the following table:\n",
    "\n",
    "chool Bachelors Masters Ph.d. Total\n",
    "Female 60 54 46 41 201\n",
    "Male 40 44 53 57 194\n",
    "Total 100 98 99 98 395\n",
    "Question: Are gender and education level dependent at 5% level of significance? In\n",
    "other words, given the data collected above, is there a relationship between the gender\n",
    "of an individual and the level of education that they have obtained?"
   ]
  },
  {
   "cell_type": "code",
   "execution_count": 4,
   "metadata": {},
   "outputs": [],
   "source": [
    "#This test is performed by using a Chi-square test of independence.\n",
    "#The hypothesis statements are as follow :\n",
    "   #1. Null Hypothesis\n",
    "       #The two categorical variables are independent\n",
    "   #2. Alternative Hypothesis\n",
    "       #The two categorical variables are dependent\n",
    "\n",
    "# The formula is given by : x^2=sum(O-E)^2/E where O represents the observed frequency and\n",
    "# E is the expected frequency under the null hypothesis and computed by: E=row total * column total/sample size\n",
    "\n",
    "# Here's the table of expected counts (E)\n",
    "\n",
    "#Female - High School :\n",
    "fe_hi=201*100/395\n",
    "#Female - Bachelors :\n",
    "fe_ba=201*98/395\n",
    "#Female - Masters :\n",
    "fe_ma=201*99/395\n",
    "#Female - Phd :\n",
    "fe_ph=201*98/395\n",
    "\n",
    "#Male - High School :\n",
    "ma_hi=194*100/395\n",
    "#Male - Bachelors :\n",
    "ma_ba=194*98/395\n",
    "#Male - Masters :\n",
    "ma_ma=194*99/395\n",
    "#Female - Phd :\n",
    "ma_ph=194*98/395\n",
    "\n"
   ]
  },
  {
   "cell_type": "code",
   "execution_count": 11,
   "metadata": {},
   "outputs": [],
   "source": [
    "#Our Chi-Square Test :\n",
    "from math import pow\n",
    "chi_square= pow(60-fe_hi,2)/fe_hi + pow(54-fe_ba,2)/fe_ba + pow(46-fe_ma,2)/fe_ma + pow(41-fe_ph,2)/fe_ph\n",
    "chi_square=chi_square + pow(40-ma_hi,2)/ma_hi + pow(44-ma_ba,2)/ma_ba + pow(53-ma_ma,2)/ma_ma + pow(57-ma_ph,2)/ma_ph"
   ]
  },
  {
   "cell_type": "code",
   "execution_count": 12,
   "metadata": {},
   "outputs": [
    {
     "data": {
      "text/plain": [
       "8.006066246262538"
      ]
     },
     "execution_count": 12,
     "metadata": {},
     "output_type": "execute_result"
    }
   ],
   "source": [
    "chi_square"
   ]
  },
  {
   "cell_type": "code",
   "execution_count": null,
   "metadata": {},
   "outputs": [],
   "source": [
    "#The critical value of chi_square with 3 degree of freedom is 7.815. \n",
    "#Since 8.006 > 7.815, therefore we reject the null hypothesis and conclude that \n",
    "#the education level depends on gender at a 5% level of significance."
   ]
  },
  {
   "cell_type": "markdown",
   "metadata": {},
   "source": [
    "Problem Statement 2:\n",
    "Using the following data, perform a oneway analysis of variance using α=.05. Write up\n",
    "the results in APA format.\n",
    "[Group1: 51, 45, 33, 45, 67]\n",
    "[Group2: 23, 43, 23, 43, 45]\n",
    "[Group3: 56, 76, 74, 87, 56]"
   ]
  },
  {
   "cell_type": "code",
   "execution_count": 56,
   "metadata": {},
   "outputs": [
    {
     "data": {
      "text/plain": [
       "array([48.2, 35.4, 69.8])"
      ]
     },
     "execution_count": 56,
     "metadata": {},
     "output_type": "execute_result"
    }
   ],
   "source": [
    "#Sample means for each groups\n",
    "import numpy as np\n",
    "from statistics import stdev, variance\n",
    "grp_1=[51, 45, 33, 45, 67]\n",
    "grp_2=[23, 43, 23, 43, 45]\n",
    "grp_3=[56, 76, 74, 87, 56]\n",
    "np.mean(arr, axis=1)"
   ]
  },
  {
   "cell_type": "code",
   "execution_count": 60,
   "metadata": {},
   "outputs": [],
   "source": [
    "#steps in calculating the group variances:\n",
    "var_1=variance(grp_1)\n",
    "var_2=variance(grp_2)\n",
    "var_3=variance(grp_3)"
   ]
  },
  {
   "cell_type": "code",
   "execution_count": 67,
   "metadata": {},
   "outputs": [
    {
     "name": "stdout",
     "output_type": "stream",
     "text": [
      "Variance 1 =153.2, Variance 2 =128.79999999999998, Variance 3 =183.2\n"
     ]
    }
   ],
   "source": [
    "print('Variance 1 ={}, Variance 2 ={}, Variance 3 ={}'.format(var_1,var_2,var_3))"
   ]
  },
  {
   "cell_type": "code",
   "execution_count": 68,
   "metadata": {},
   "outputs": [],
   "source": [
    "MS_error=(153.2+128.8+183.2)/3"
   ]
  },
  {
   "cell_type": "code",
   "execution_count": 69,
   "metadata": {},
   "outputs": [
    {
     "data": {
      "text/plain": [
       "155.06666666666666"
      ]
     },
     "execution_count": 69,
     "metadata": {},
     "output_type": "execute_result"
    }
   ],
   "source": [
    "MS_error"
   ]
  },
  {
   "cell_type": "code",
   "execution_count": 73,
   "metadata": {},
   "outputs": [],
   "source": [
    "#Calculating the remaining error (or within) terms for the ANOVA table\n",
    "df_error=15-3\n",
    "SS_error=155.07*(15-3)"
   ]
  },
  {
   "cell_type": "code",
   "execution_count": 74,
   "metadata": {},
   "outputs": [
    {
     "data": {
      "text/plain": [
       "12"
      ]
     },
     "execution_count": 74,
     "metadata": {},
     "output_type": "execute_result"
    }
   ],
   "source": [
    "df_error"
   ]
  },
  {
   "cell_type": "code",
   "execution_count": 75,
   "metadata": {},
   "outputs": [
    {
     "data": {
      "text/plain": [
       "1860.84"
      ]
     },
     "execution_count": 75,
     "metadata": {},
     "output_type": "execute_result"
    }
   ],
   "source": [
    "SS_error"
   ]
  },
  {
   "cell_type": "code",
   "execution_count": 76,
   "metadata": {},
   "outputs": [],
   "source": [
    "#steps in calculating the variance of the sample mean\n",
    "#Sum of squares :\n",
    "SS_means=604.58\n",
    "Var_means=604.58/(3-1)\n",
    "MS_between=Var_means*5"
   ]
  },
  {
   "cell_type": "code",
   "execution_count": 77,
   "metadata": {},
   "outputs": [],
   "source": [
    "#Calculating the remaining between (or group) terms of the ANOVA table\n",
    "df_group=3-1\n",
    "SS_group=MS_between*df_group\n",
    "#Test statistic and critical value\n",
    "F=MS_between/MS_error"
   ]
  },
  {
   "cell_type": "code",
   "execution_count": 78,
   "metadata": {},
   "outputs": [
    {
     "data": {
      "text/plain": [
       "9.747098022355976"
      ]
     },
     "execution_count": 78,
     "metadata": {},
     "output_type": "execute_result"
    }
   ],
   "source": [
    "F"
   ]
  },
  {
   "cell_type": "code",
   "execution_count": 79,
   "metadata": {},
   "outputs": [],
   "source": [
    "#Effect size\n",
    "n=SS_group/4883.7"
   ]
  },
  {
   "cell_type": "code",
   "execution_count": 80,
   "metadata": {},
   "outputs": [
    {
     "data": {
      "text/plain": [
       "0.6189774146651105"
      ]
     },
     "execution_count": 80,
     "metadata": {},
     "output_type": "execute_result"
    }
   ],
   "source": [
    "n"
   ]
  },
  {
   "cell_type": "code",
   "execution_count": null,
   "metadata": {},
   "outputs": [],
   "source": [
    "#APA format :\n",
    " #F(2, 12)=9.75, p <0.05, η2=0.62"
   ]
  },
  {
   "cell_type": "markdown",
   "metadata": {},
   "source": [
    "Problem Statement 3:\n",
    "Calculate F Test for given 10, 20, 30, 40, 50 and 5,10,15, 20, 25.\n",
    "For 10, 20, 30, 40, 50:"
   ]
  },
  {
   "cell_type": "code",
   "execution_count": 87,
   "metadata": {},
   "outputs": [],
   "source": [
    "#Variance 1\n",
    "test_1=[10, 20, 30, 40, 50]\n",
    "var1=variance(test_1)\n",
    "#Variance 2\n",
    "test_2=[5,10,15, 20, 25]\n",
    "var2=variance(test_2)"
   ]
  },
  {
   "cell_type": "code",
   "execution_count": 89,
   "metadata": {},
   "outputs": [
    {
     "data": {
      "text/plain": [
       "250"
      ]
     },
     "execution_count": 89,
     "metadata": {},
     "output_type": "execute_result"
    }
   ],
   "source": [
    "var1"
   ]
  },
  {
   "cell_type": "code",
   "execution_count": 88,
   "metadata": {},
   "outputs": [
    {
     "data": {
      "text/plain": [
       "62.5"
      ]
     },
     "execution_count": 88,
     "metadata": {},
     "output_type": "execute_result"
    }
   ],
   "source": [
    "var2"
   ]
  },
  {
   "cell_type": "code",
   "execution_count": 90,
   "metadata": {},
   "outputs": [],
   "source": [
    "# Our F Test \n",
    "f_test=var1/var2"
   ]
  },
  {
   "cell_type": "code",
   "execution_count": 91,
   "metadata": {},
   "outputs": [
    {
     "data": {
      "text/plain": [
       "4.0"
      ]
     },
     "execution_count": 91,
     "metadata": {},
     "output_type": "execute_result"
    }
   ],
   "source": [
    "f_test"
   ]
  },
  {
   "cell_type": "code",
   "execution_count": null,
   "metadata": {},
   "outputs": [],
   "source": []
  }
 ],
 "metadata": {
  "kernelspec": {
   "display_name": "Python 3",
   "language": "python",
   "name": "python3"
  },
  "language_info": {
   "codemirror_mode": {
    "name": "ipython",
    "version": 3
   },
   "file_extension": ".py",
   "mimetype": "text/x-python",
   "name": "python",
   "nbconvert_exporter": "python",
   "pygments_lexer": "ipython3",
   "version": "3.7.0"
  }
 },
 "nbformat": 4,
 "nbformat_minor": 2
}
